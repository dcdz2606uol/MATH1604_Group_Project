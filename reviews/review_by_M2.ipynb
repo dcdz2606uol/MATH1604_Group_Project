{
 "cells": [
  {
   "cell_type": "markdown",
   "id": "17470f56-719a-494d-b3ba-899bc21a7b1a",
   "metadata": {},
   "source": [
    "## Download & Collation Module\n",
    "\n",
    "This module contains two helper functions to streamline acquiring and consolidating raw response files from a remote server:\n",
    "\n",
    "\n",
    "### 1. `download_answer_files(cloud_url, save_folder, total_files)`\n",
    "\n",
    "- **Objective**  \n",
    "  Retrieve sequentially named text files (`a1.txt`, `a2.txt`, etc.) from a specified cloud endpoint and store them locally under standardized filenames.\n",
    "\n",
    "- **Parameters**  \n",
    "  - `cloud_url` (str): Base URL hosting the files (e.g. `https://example.com/answers`)  \n",
    "  - `save_folder` (str): Target directory for saving downloads (e.g. `data/`)  \n",
    "  - `total_files` (int): Number of files to fetch  \n",
    "\n",
    "- **Process**  \n",
    "  1. Create `save_folder` if it does not exist.  \n",
    "  2. Iterate from 1 to `total_files`.  \n",
    "  3. Download each file via HTTP GET.  \n",
    "  4. Save each response as `answers_respondent_{i}.txt`, and log success or failure.\n",
    "\n",
    "- **Code**"
   ]
  },
  {
   "cell_type": "code",
   "execution_count": null,
   "id": "273e2aa2-a114-48cf-a493-8fd54b8dee68",
   "metadata": {},
   "outputs": [],
   "source": [
    "import os\n",
    "import requests\n",
    "\n",
    "def download_answer_files(cloud_url, save_folder, total_files):\n",
    "    # Create the folder if it doesn't exist\n",
    "    if not os.path.exists(save_folder):\n",
    "        os.mkdir(save_folder)\n",
    "\n",
    "    # Download each file\n",
    "    for i in range(1, total_files + 1):\n",
    "        url = f\"{cloud_url}/answers_respondent_{i}.txt\"\n",
    "        file_name = f\"answers_respondent_{i}.txt\"\n",
    "        file_path = os.path.join(save_folder, file_name)\n",
    "\n",
    "        response = requests.get(url)\n",
    "        if response.status_code == 200:\n",
    "            with open(file_path, \"wb\") as f:\n",
    "                f.write(response.content)\n",
    "            print(f\"Saved: {file_name}\")\n",
    "        else:\n",
    "            print(f\"Failed to download: {url}\")"
   ]
  },
  {
   "cell_type": "markdown",
   "id": "47b690e3-c1e1-40df-af67-b979316d2067",
   "metadata": {},
   "source": [
    "### 2. `collate_answer_files(folder_path)`\n",
    "\n",
    "- **Objective**  \n",
    "  Merge all individual `answers_respondent_*.txt` files into a single document, with clear separators between each respondent’s input.\n",
    "\n",
    "- **Parameters**  \n",
    "  - `folder_path` (str): Path to the directory containing the downloaded respondent files  \n",
    "\n",
    "- **Process**  \n",
    "  1. Ensure an `output/` directory exists.  \n",
    "  2. Open `output/collated_answers.txt` for writing.  \n",
    "  3. Identify and sort all files matching `answers_respondent_{i}.txt` by their index.  \n",
    "  4. Append each file’s contents to the output file, inserting a line with `*` between entries.\n",
    "\n",
    "- **Code**"
   ]
  },
  {
   "cell_type": "code",
   "execution_count": 1,
   "id": "91bb5601-bda0-41bc-a13e-17eefc1b2739",
   "metadata": {},
   "outputs": [],
   "source": [
    "def collate_answer_files(folder_path):\n",
    "    # Create output folder\n",
    "    if not os.path.exists(\"output\"):\n",
    "        os.mkdir(\"output\")\n",
    "\n",
    "    # Open the final file for writing\n",
    "    with open(\"output/collated_answers.txt\", \"w\", encoding=\"utf-8\") as out_file:\n",
    "        # Find and sort all respondent files\n",
    "        files = [f for f in os.listdir(folder_path) if f.startswith(\"answers_respondent_\")]\n",
    "        files.sort(key=lambda x: int(x.split(\"_\")[-1].split(\".\")[0]))\n",
    "\n",
    "        for i, file_name in enumerate(files):\n",
    "            file_path = os.path.join(folder_path, file_name)\n",
    "            with open(file_path, \"r\", encoding=\"utf-8\") as f:\n",
    "                content = f.read().strip()\n",
    "                out_file.write(content)\n",
    "\n",
    "            # Only add a separator if it’s not the last file\n",
    "            if i < len(files) - 1:\n",
    "                out_file.write(\"\\n*\\n\")\n",
    "            else:\n",
    "                out_file.write(\"\\n\")\n",
    "\n",
    "    print(\"All answers have been successfully collated!\")"
   ]
  },
  {
   "cell_type": "markdown",
   "id": "7e5529d7-8714-4b60-8d1d-a48225c0b453",
   "metadata": {},
   "source": [
    "\n",
    "### Example Usage\n",
    "\n",
    "```python\n",
    "from data_preparation_M2 import download_answer_files, collate_answer_files\n",
    "\n",
    "# 1. Download responses from the cloud\n",
    "download_answer_files(\n",
    "    cloud_url=\"https://example.com/answers\",\n",
    "    save_folder=\"data\",\n",
    "    total_files=5\n",
    ")\n",
    "\n",
    "# 2. Combine downloaded files into one\n",
    "collate_answer_files(\"data\")"
   ]
  },
  {
   "cell_type": "code",
   "execution_count": null,
   "id": "c11825ba-16d4-4766-b632-33b3d2af01d6",
   "metadata": {},
   "outputs": [],
   "source": []
  }
 ],
 "metadata": {
  "kernelspec": {
   "display_name": "Python 3 (ipykernel)",
   "language": "python",
   "name": "python3"
  },
  "language_info": {
   "codemirror_mode": {
    "name": "ipython",
    "version": 3
   },
   "file_extension": ".py",
   "mimetype": "text/x-python",
   "name": "python",
   "nbconvert_exporter": "python",
   "pygments_lexer": "ipython3",
   "version": "3.11.9"
  }
 },
 "nbformat": 4,
 "nbformat_minor": 5
}
