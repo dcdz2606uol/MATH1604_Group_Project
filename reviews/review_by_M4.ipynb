{
 "cells": [
  {
   "cell_type": "markdown",
   "id": "565ded2e",
   "metadata": {},
   "source": [
    "# Review by Team Member 4 – Integration and Execution\n",
    "This notebook documents my implementation of the integration module `run_full_analysis_M4.py`, which executes the full analysis pipeline for detecting patterns in Python quiz responses.\n",
    "\n",
    "As Team Leader, I also managed the GitHub repository and oversaw collaboration and version control practices within the team."
   ]
  },
  {
   "cell_type": "markdown",
   "id": "56156faf",
   "metadata": {},
   "source": [
    "## Purpose of `run_full_analysis_M4.py`\n",
    "The script integrates all three modules:\n",
    "- **M1**: Extracts structured answer sequences.\n",
    "- **M2**: Downloads and collates quiz data.\n",
    "- **M3**: Performs statistical analysis and visualization.\n",
    "\n",
    "The pipeline handles:\n",
    "- Folder setup and logging\n",
    "- Mock data generation (fallback)\n",
    "- Validation of sequences\n",
    "- Statistical mean computation\n",
    "- Visual pattern detection (scatter and line plots)"
   ]
  },
  {
   "cell_type": "markdown",
   "id": "f1910558",
   "metadata": {},
   "source": [
    "## Key Functions Overview\n",
    "### `setup_environment()`\n",
    "Creates necessary folders (`data/`, `output/`) and initializes the log file.\n",
    "\n",
    "### `generate_mock_data()`\n",
    "Used if file download fails; creates respondent files with a simple answer pattern.\n",
    "\n",
    "### `run_full_analysis()`\n",
    "Core function coordinating the full analysis pipeline with logging and error handling.\n",
    "\n",
    "### `validate_sequences()`\n",
    "Ensures all answer sequences are valid and of correct length.\n",
    "\n",
    "### `main()`\n",
    "Entrypoint that runs setup and calls the full pipeline."
   ]
  },
  {
   "cell_type": "code",
   "execution_count": null,
   "id": "bb2f6c46",
   "metadata": {},
   "outputs": [],
   "source": [
    "def log_message(message):\n",
    "    \"\"\"Log messages to file and console with timestamp.\"\"\"\n",
    "    from datetime import datetime\n",
    "    timestamp = datetime.now().strftime(\"%Y-%m-%d %H:%M:%S\")\n",
    "    log_entry = f\"[{timestamp}] {message}\"\n",
    "    print(log_entry)\n",
    "    with open(\"analysis_log.txt\", 'a') as f:\n",
    "        f.write(log_entry + \"\\n\")"
   ]
  },
  {
   "cell_type": "markdown",
   "id": "356bf518",
   "metadata": {},
   "source": [
    "This helper function logs every major step in both the console and a persistent log file. \n",
    "This helps with tracking execution and debugging errors in the pipeline."
   ]
  },
  {
   "cell_type": "markdown",
   "id": "e19f1c60",
   "metadata": {},
   "source": [
    "## Output Summary\n",
    "After running the full pipeline:\n",
    "- 25 answer files were parsed successfully.\n",
    "- Mean values per question were calculated.\n",
    "- Two visualizations were generated:\n",
    "  - **Scatter plot**: Showed slight variations across question positions.\n",
    "  - **Line plot**: Showed similarity across respondent patterns, hinting at a deliberate sequence structure.\n",
    "\n",
    "This suggests that the quiz setter may have used a repeating or position-based pattern in correct answers."
   ]
  },
  {
   "cell_type": "markdown",
   "id": "0c81edbd",
   "metadata": {},
   "source": [
    "## Reflection on Patterns\n",
    "From the plots, we observed:\n",
    "- Repetition or waves in certain answer positions.\n",
    "- Strong alignment of respondent answers in several sections.\n",
    "\n",
    "This may indicate the correct answer sequence follows a fixed algorithmic or visual pattern (e.g., alternating values, sinusoidal, etc.).\n",
    "\n",
    "Further statistical tests (e.g., autocorrelation) could help confirm this, but visual inspection alone revealed strong cues."
   ]
  },
  {
   "cell_type": "markdown",
   "id": "382eafcd",
   "metadata": {},
   "source": [
    "## GitHub and Collaboration\n",
    "As team leader, I:\n",
    "- Created and structured the repository (data/, scripts/, output/, reviews/)\n",
    "- Ensured each member committed their module and review\n",
    "- Managed pull requests and conflict resolution\n",
    "- Used branches for each team member to isolate work\n",
    "- Wrote clear commit messages for all integration steps\n",
    "\n",
    "Our collaboration was effective, and we used version control to track progress clearly."
   ]
  },
  {
   "cell_type": "markdown",
   "id": "5e328b85",
   "metadata": {},
   "source": [
    "## Conclusion\n",
    "My script successfully integrated all modules and handled data gracefully.\n",
    "\n",
    "The full pipeline achieved the goal of visualizing answer patterns and supported the hypothesis that the quiz had an intentional pattern.\n",
    "\n",
    "I also ensured strong GitHub practices as team leader, meeting all the requirements of this module."
   ]
  }
 ],
 "metadata": {},
 "nbformat": 4,
 "nbformat_minor": 5
}
